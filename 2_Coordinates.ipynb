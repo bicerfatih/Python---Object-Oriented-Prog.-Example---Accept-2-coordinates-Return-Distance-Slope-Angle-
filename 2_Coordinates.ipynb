{
 "cells": [
  {
   "cell_type": "code",
   "execution_count": 42,
   "id": "09f5cdac",
   "metadata": {},
   "outputs": [],
   "source": [
    "import math"
   ]
  },
  {
   "cell_type": "code",
   "execution_count": null,
   "id": "983b1165",
   "metadata": {},
   "outputs": [],
   "source": [
    "'''\n",
    "Accept 2 coordinates as a pair of duples,\n",
    "\n",
    "Return: \n",
    "Distance \n",
    "Slope \n",
    "Angle \n",
    "\n",
    "between these 2 coordinates. \n",
    "\n",
    "Coordinate_1 = (x1,y1)\n",
    "Coordinate_2 = (x2,y2)\n",
    "\n",
    "'''"
   ]
  },
  {
   "cell_type": "code",
   "execution_count": 44,
   "id": "2c5f9b84",
   "metadata": {},
   "outputs": [],
   "source": [
    "class Coordinates ():\n",
    "    def __init__ (self, coordinate_1, coordinate_2):\n",
    "        self.coordinate_1 = coordinate_1\n",
    "        self.coordinate_2 = coordinate_2\n",
    "    def Distance(self):\n",
    "        (x1,y1) = self.coordinate_1\n",
    "        (x2,y2) = self.coordinate_2\n",
    "        return ((x2-x1)**2 + (y2-y1)**2)**0.5\n",
    "    def Slope(self):\n",
    "        (x1,y1) = self.coordinate_1\n",
    "        (x2,y2) = self.coordinate_2\n",
    "        return (y2-y1)/(x2-x1)\n",
    "    def Angle(self):\n",
    "        (x1,y1) = self.coordinate_1\n",
    "        (x2,y2) = self.coordinate_2\n",
    "        return math.degrees(math.atan(y2-y1)/(x2-x1))\n",
    "        "
   ]
  },
  {
   "cell_type": "code",
   "execution_count": 45,
   "id": "69ec1d8e",
   "metadata": {},
   "outputs": [],
   "source": [
    "c1 = (4,8)\n",
    "c2 = (1,3)"
   ]
  },
  {
   "cell_type": "code",
   "execution_count": 46,
   "id": "901f5fa0",
   "metadata": {},
   "outputs": [],
   "source": [
    "my_distance = Coordinates(c1,c2)"
   ]
  },
  {
   "cell_type": "code",
   "execution_count": 47,
   "id": "5d838048",
   "metadata": {},
   "outputs": [
    {
     "data": {
      "text/plain": [
       "5.830951894845301"
      ]
     },
     "execution_count": 47,
     "metadata": {},
     "output_type": "execute_result"
    }
   ],
   "source": [
    "my_distance.Distance()"
   ]
  },
  {
   "cell_type": "code",
   "execution_count": 48,
   "id": "0f62a26f",
   "metadata": {},
   "outputs": [],
   "source": [
    "my_Slope = Coordinates(c1,c2)"
   ]
  },
  {
   "cell_type": "code",
   "execution_count": 49,
   "id": "adce1517",
   "metadata": {},
   "outputs": [
    {
     "data": {
      "text/plain": [
       "1.6666666666666667"
      ]
     },
     "execution_count": 49,
     "metadata": {},
     "output_type": "execute_result"
    }
   ],
   "source": [
    "my_Slope.Slope()"
   ]
  },
  {
   "cell_type": "code",
   "execution_count": 50,
   "id": "e25cd2fe",
   "metadata": {},
   "outputs": [],
   "source": [
    "my_Angle = Coordinates(c1,c2)"
   ]
  },
  {
   "cell_type": "code",
   "execution_count": 51,
   "id": "ec86e5a9",
   "metadata": {},
   "outputs": [
    {
     "data": {
      "text/plain": [
       "26.230022508659932"
      ]
     },
     "execution_count": 51,
     "metadata": {},
     "output_type": "execute_result"
    }
   ],
   "source": [
    "my_Angle.Angle()"
   ]
  },
  {
   "cell_type": "code",
   "execution_count": null,
   "id": "22037770",
   "metadata": {},
   "outputs": [],
   "source": []
  },
  {
   "cell_type": "code",
   "execution_count": null,
   "id": "db2b1b3d",
   "metadata": {},
   "outputs": [],
   "source": []
  },
  {
   "cell_type": "code",
   "execution_count": null,
   "id": "ed83dbcd",
   "metadata": {},
   "outputs": [],
   "source": []
  },
  {
   "cell_type": "code",
   "execution_count": null,
   "id": "bbf11e9a",
   "metadata": {},
   "outputs": [],
   "source": []
  },
  {
   "cell_type": "code",
   "execution_count": null,
   "id": "a11ee774",
   "metadata": {},
   "outputs": [],
   "source": []
  },
  {
   "cell_type": "code",
   "execution_count": null,
   "id": "acc1acb4",
   "metadata": {},
   "outputs": [],
   "source": []
  },
  {
   "cell_type": "code",
   "execution_count": null,
   "id": "d4258c3c",
   "metadata": {},
   "outputs": [],
   "source": []
  },
  {
   "cell_type": "code",
   "execution_count": null,
   "id": "849c1437",
   "metadata": {},
   "outputs": [],
   "source": []
  },
  {
   "cell_type": "code",
   "execution_count": null,
   "id": "62ba25e0",
   "metadata": {},
   "outputs": [],
   "source": []
  },
  {
   "cell_type": "code",
   "execution_count": null,
   "id": "c13eac7b",
   "metadata": {},
   "outputs": [],
   "source": []
  },
  {
   "cell_type": "code",
   "execution_count": null,
   "id": "04ebb27e",
   "metadata": {},
   "outputs": [],
   "source": []
  },
  {
   "cell_type": "code",
   "execution_count": null,
   "id": "5aa04d14",
   "metadata": {},
   "outputs": [],
   "source": []
  },
  {
   "cell_type": "code",
   "execution_count": null,
   "id": "7087b344",
   "metadata": {},
   "outputs": [],
   "source": []
  },
  {
   "cell_type": "code",
   "execution_count": null,
   "id": "b732fc18",
   "metadata": {},
   "outputs": [],
   "source": []
  },
  {
   "cell_type": "code",
   "execution_count": null,
   "id": "db25eb24",
   "metadata": {},
   "outputs": [],
   "source": []
  },
  {
   "cell_type": "code",
   "execution_count": null,
   "id": "66f2ed73",
   "metadata": {},
   "outputs": [],
   "source": []
  },
  {
   "cell_type": "code",
   "execution_count": null,
   "id": "9620839a",
   "metadata": {},
   "outputs": [],
   "source": []
  },
  {
   "cell_type": "code",
   "execution_count": null,
   "id": "ece5c306",
   "metadata": {},
   "outputs": [],
   "source": []
  }
 ],
 "metadata": {
  "kernelspec": {
   "display_name": "Python 3 (ipykernel)",
   "language": "python",
   "name": "python3"
  },
  "language_info": {
   "codemirror_mode": {
    "name": "ipython",
    "version": 3
   },
   "file_extension": ".py",
   "mimetype": "text/x-python",
   "name": "python",
   "nbconvert_exporter": "python",
   "pygments_lexer": "ipython3",
   "version": "3.9.12"
  }
 },
 "nbformat": 4,
 "nbformat_minor": 5
}
